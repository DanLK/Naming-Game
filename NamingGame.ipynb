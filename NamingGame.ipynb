{
 "cells": [
  {
   "cell_type": "markdown",
   "metadata": {},
   "source": [
    "# Caso Estándar"
   ]
  },
  {
   "cell_type": "code",
   "execution_count": 1,
   "metadata": {},
   "outputs": [],
   "source": [
    "import string\n",
    "import random\n",
    "import numpy as np\n",
    "import matplotlib.pyplot as plt\n",
    "\n",
    "#Parámetros\n",
    "palabra_longitud_maxima = 8\n",
    "cantidad_objetos = 3\n",
    "memoria_maxima_por_objeto = 3\n",
    "poblacion = 200"
   ]
  },
  {
   "cell_type": "markdown",
   "metadata": {},
   "source": [
    "# LENGUAJE "
   ]
  },
  {
   "cell_type": "code",
   "execution_count": 2,
   "metadata": {},
   "outputs": [],
   "source": [
    "#Lenguaje\n",
    "vocales = [\"a\",\"e\",\"i\",\"o\",\"u\"]\n",
    "consonantes = [\"b\",\"c\",\"d\",\"f\",\"g\",\"h\",\"j\",\"k\",\"l\",\"m\",\"n\",\"ñ\",\"p\",\"q\",\"r\",\"s\",\"t\",\"v\",\"w\",\"x\",\"y\",\"z\"]\n",
    "\n",
    "class Palabra():\n",
    "  \"\"\"Clase que define las reglas de construcción de el lenguaje.\"\"\"\n",
    "  \n",
    "  def __init__(self):\n",
    "    \"\"\"Crea una nueva palabra.\"\"\"\n",
    "    #Misma razón que abajo, con los aliens, Python es un lenguaje horrible.\n",
    "    self.palabra = \"\"\n",
    "    while len(self.palabra) < palabra_longitud_maxima:\n",
    "      self.palabra = self.palabra + self.Silaba()\n",
    "\n",
    "  def Silaba(self):\n",
    "    \"\"\"Función para crear una nueva sílaba\"\"\"\n",
    "    return random.choice(consonantes) + random.choice(vocales)\n",
    "  \n",
    "  #Esta función es por si queremos hacer una comparación más sofisticadas de palabras.\n",
    "  def EsSimilar(self, otra_palabra):\n",
    "    \"\"\"Función que compara dos palabras y regresa verdadero si ambas palabras son similares\"\"\"\n",
    "    if self.palabra == otra_palabra.palabra:\n",
    "      return True\n",
    "    else:\n",
    "      return False"
   ]
  },
  {
   "cell_type": "markdown",
   "metadata": {},
   "source": [
    "# Agentes "
   ]
  },
  {
   "cell_type": "code",
   "execution_count": 3,
   "metadata": {},
   "outputs": [],
   "source": [
    "class Alien():\n",
    "  \"\"\"Extraterrestres.\"\"\"\n",
    " \n",
    "  def __init__(self):\n",
    "    \"\"\"Crea un nuevo Alien.\"\"\"\n",
    "    #La memoria consiste en un lista de listas. Cada entrada de la lista principal hace referencia a un objeto. Cada entrada de la segunda lista a el número de palabras que el alien conoce para denominar a dicho objecto.\n",
    "    #Debido a que Python es un lenguaje horrible, la memoria se tiene que definir dentro del init.\n",
    "    self.memoria = []\n",
    "    for i in range(0,cantidad_objetos):\n",
    "      self.memoria.append([])  \n",
    "    \n",
    "  def Comunicar(self, otro, identificador_objeto):\n",
    "    \"\"\"Función que recibe a otro individuo y un número, éste último representa al objeto del que el alien desea entablar comunicación.\"\"\"\n",
    "    palabra = self.EscogerPalabra(identificador_objeto)\n",
    "    #Si la comunicación no es exitosa almacenar la nueva palabra, borrando la última si es necesario.\n",
    "    if not otro.Escuchar(palabra, identificador_objeto):\n",
    "      otro.MemorizarPalabra(palabra, identificador_objeto)\n",
    "    else:\n",
    "      otro.memoria[identificador_objeto] = [palabra]\n",
    "      self.memoria[identificador_objeto] = [palabra]\n",
    "  \n",
    "  def Escuchar(self, palabra, identificador_objeto):\n",
    "    \"\"\"Función que recibe una palabra y un número que identifica a un objeto. La función regresa True si el alien reconoce la palabra, esto es, si el alien tiene almacenada la palabra en su memoria.\"\"\"\n",
    "    exito = False\n",
    "    #Buscar todas las entradas de la memoria asociada a identificador_objeto.\n",
    "    for i in range(0,len(self.memoria[identificador_objeto])):\n",
    "      if self.memoria[identificador_objeto][i].EsSimilar(palabra):\n",
    "        exito = True\n",
    "        break\n",
    "    return exito\n",
    "  \n",
    "  def InventarPalabra(self, identificador_objeto):\n",
    "    \"\"\"Función para crear una nueva palabra asociada al objeto identificado por identificador_objeto.\"\"\"\n",
    "    self.memoria[identificador_objeto].insert(0, Palabra())\n",
    "  \n",
    "  def EscogerPalabra(self, identificador_objeto):\n",
    "    \"\"\"Función que selecciona una palabra arbitraria de la memoria del agente relacionada al objeto asociado a indentificador_objeto.\"\"\"\n",
    "    #Si el individuo no tiene una palabra para el objeto asociado a identificador_objeto se inventa una nueva palabra.\n",
    "    if len(self.memoria[identificador_objeto]) == 0:\n",
    "      self.InventarPalabra(identificador_objeto)\n",
    "    #Regresar alguna palabra aleatoria que sepa para el objeto.\n",
    "    return random.choice(self.memoria[identificador_objeto])\n",
    "      \n",
    "  def MemorizarPalabra(self, palabra, identificador_objeto):\n",
    "    \"\"\"Función que recibe un palabra y la almacena en la memoria del individuo. Elimina la última palabra escuchada si excede el límite de memoria.\"\"\"\n",
    "    self.memoria[identificador_objeto].insert(0, palabra)\n",
    "    if len(self.memoria[identificador_objeto]) > memoria_maxima_por_objeto:\n",
    "      self.memoria[identificador_objeto].pop()\n",
    "      \n",
    "  def PalabrasTotales(self):\n",
    "    \"\"\"Función que cuenta las palabras que tiene un alien en su memoria. Regresa una lista cuyos elementos son las palabras que tiene el alien por objeto, en orden.\"\"\"\n",
    "    pt = []\n",
    "    for i in range(0,cantidad_objetos):\n",
    "      p = len(self.memoria[i])\n",
    "      pt.append(p)\n",
    "    return pt"
   ]
  },
  {
   "cell_type": "markdown",
   "metadata": {},
   "source": [
    "# COMUNIDAD"
   ]
  },
  {
   "cell_type": "code",
   "execution_count": 4,
   "metadata": {},
   "outputs": [],
   "source": [
    "class Comunidad():\n",
    "  \"\"\"Sociedad extraterrestre.\"\"\"\n",
    "  \n",
    "  def __init__(self):\n",
    "    \"\"\"Crea una nueva sociedad alienigena\"\"\"\n",
    "    self.interacciones_totales = 0\n",
    "    self.individuos = []\n",
    "    for i in range(0, poblacion):\n",
    "      self.individuos.append(Alien())\n",
    "    \n",
    "      \n",
    "  def Interaccion(self):\n",
    "    \"\"\"Función que realiza una interacción.\"\"\"\n",
    "    #Seleccionar dos individuos de la población de manera aleatoria.\n",
    "    individuoA = random.choice(self.individuos)\n",
    "    individuoB = random.choice(self.individuos)\n",
    "    while individuoA is individuoB:\n",
    "      individuoB = random.choice(self.individuos)\n",
    "    #Entablar contacto entre A y B.\n",
    "    individuoA.Comunicar(individuoB, random.randrange(0,cantidad_objetos))\n",
    "    self.interacciones_totales += 1\n",
    "    \n",
    "  def PalabrasEnT(self):\n",
    "    \"\"\"Función que cuenta la cantidad de palabras que hay en el sistema. Regresa una lista con la cantidad de palabras por objeto, en orden.\"\"\"\n",
    "    palabras = []\n",
    "    for k in range(0,cantidad_objetos):\n",
    "      palabras.append(0)\n",
    "    for i in range(0,poblacion):\n",
    "      x = self.individuos[i].PalabrasTotales()\n",
    "      for j in range(0,cantidad_objetos):\n",
    "        palabras[j] += x[j]  \n",
    "    return palabras\n",
    "  \n",
    "  def PalabrasDiferentes(self):\n",
    "    \"\"\"Función que cuenta la cantidad de palabras diferentes en el sistema. Regresa una lista con la cantidad de palabras que hay por objeto, en orden.\"\"\"\n",
    "    palabras = []\n",
    "    cantpalabras = []\n",
    "    for i in range(0, cantidad_objetos):\n",
    "      #Cambiaron {} por set() en las versiones más nuevas.\n",
    "      palabras.append(set()) \n",
    "    for i in range(0, poblacion):\n",
    "      for k in range(0, cantidad_objetos):\n",
    "        lista = self.individuos[i].memoria[k]\n",
    "        for j in range(0,len(lista)):\n",
    "          palabras[k].add(lista[j])\n",
    "    for i in range(0,len(palabras)):\n",
    "      cantpalabras.append(len(palabras[i]))\n",
    "    return cantpalabras"
   ]
  },
  {
   "cell_type": "markdown",
   "metadata": {},
   "source": [
    "# SIMULACIÓN"
   ]
  },
  {
   "cell_type": "code",
   "execution_count": 5,
   "metadata": {},
   "outputs": [],
   "source": [
    "#Definición de la comunidad y listas para almacenar información.\n",
    "sociedad = Comunidad()\n",
    "interacciones = []\n",
    "datos_palabras_diferentes = []\n",
    "datos_palabras_totales = []\n",
    "\n",
    "#Simulación\n",
    "for i in range (0, 50000):\n",
    "  sociedad.Interaccion()\n",
    "  datos_palabras_diferentes.append( sociedad.PalabrasDiferentes() )\n",
    "  datos_palabras_totales.append( sociedad.PalabrasEnT() )\n",
    "  interacciones.append(i+1)"
   ]
  },
  {
   "cell_type": "code",
   "execution_count": 6,
   "metadata": {},
   "outputs": [
    {
     "data": {
      "image/png": "[encoded data removed]",
      "text/plain": [
       "<Figure size 432x288 with 1 Axes>"
      ]
     },
     "metadata": {
      "needs_background": "light"
     },
     "output_type": "display_data"
    }
   ],
   "source": [
    "#Graficar los resultados.\n",
    "plt.xlabel(\"Interacciones\")\n",
    "plt.ylabel(\"# palabras\")\n",
    "plt.title(\"Palabras diferentes\")\n",
    "for i in range(0, cantidad_objetos):\n",
    "    plt.plot(interacciones,[pt[i] for pt in datos_palabras_diferentes],label = 'Objeto %s'%i)\n",
    "plt.legend()\n",
    "plt.show()"
   ]
  }
 ],
 "metadata": {
  "kernelspec": {
   "display_name": "Python 3",
   "language": "python",
   "name": "python3"
  },
  "language_info": {
   "codemirror_mode": {
    "name": "ipython",
    "version": 3
   },
   "file_extension": ".py",
   "mimetype": "text/x-python",
   "name": "python",
   "nbconvert_exporter": "python",
   "pygments_lexer": "ipython3",
   "version": "3.7.4"
  }
 },
 "nbformat": 4,
 "nbformat_minor": 2
}
